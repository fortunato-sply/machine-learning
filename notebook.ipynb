{
 "cells": [
  {
   "cell_type": "code",
   "execution_count": null,
   "metadata": {},
   "outputs": [],
   "source": [
    "!pip install pandas\n",
    "!pip install -U scikit-learn\n",
    "!pip install joblib\n",
    "!pip install flask\n",
    "!pip install seaborn"
   ]
  },
  {
   "cell_type": "markdown",
   "metadata": {},
   "source": [
    "### Reading dataset"
   ]
  },
  {
   "cell_type": "code",
   "execution_count": 157,
   "metadata": {},
   "outputs": [],
   "source": [
    "import pandas as pd\n",
    "from sklearn.model_selection import train_test_split as tsp\n",
    "from sklearn.tree import DecisionTreeClassifier\n",
    "from sklearn.ensemble import RandomForestClassifier\n",
    "from sklearn.neighbors import KNeighborsClassifier\n",
    "from sklearn.metrics import mean_absolute_error, r2_score, accuracy_score, confusion_matrix\n",
    "from sklearn.preprocessing import normalize, StandardScaler, LabelEncoder, Normalizer\n",
    "from sklearn.svm import SVC\n",
    "import seaborn as sns\n",
    "import matplotlib.pyplot as plt\n",
    "import numpy as np\n",
    "\n",
    "df = pd.read_csv('heart.csv')\n",
    "\n",
    "X = df.drop(['output'], axis=1)\n",
    "y = df['output']\n",
    "\n",
    "\n",
    "X_train, X_test, y_train, y_test = tsp(X, y, test_size=0.2, random_state=0)\n"
   ]
  },
  {
   "cell_type": "markdown",
   "metadata": {},
   "source": [
    "Normalizing"
   ]
  },
  {
   "cell_type": "code",
   "execution_count": 179,
   "metadata": {},
   "outputs": [],
   "source": [
    "nm = StandardScaler()\n",
    "nm.fit(X_train)\n",
    "X_train = nm.transform(X_train)\n",
    "X_test = nm.transform(X_test)"
   ]
  },
  {
   "cell_type": "markdown",
   "metadata": {},
   "source": [
    "### Used models list"
   ]
  },
  {
   "cell_type": "code",
   "execution_count": 196,
   "metadata": {},
   "outputs": [],
   "source": [
    "models = {\n",
    "  \"DecisionTreeClassifier\": DecisionTreeClassifier(max_depth=32, min_samples_split=11),\n",
    "  \"RandomForestClassifier\": RandomForestClassifier(),\n",
    "  \"KNeighborsClassifier\": KNeighborsClassifier(n_neighbors=3),\n",
    "  \"SVC\": SVC(gamma='auto')\n",
    "}"
   ]
  },
  {
   "cell_type": "markdown",
   "metadata": {},
   "source": [
    "Model Param Finder"
   ]
  },
  {
   "cell_type": "code",
   "execution_count": 119,
   "metadata": {},
   "outputs": [
    {
     "name": "stdout",
     "output_type": "stream",
     "text": [
      "(52, 11)\n"
     ]
    }
   ],
   "source": [
    "params = (0, 0)\n",
    "bestAccuracy = 0\n",
    "\n",
    "for j in range(1, 300, 10):\n",
    "  for i in range(2, 300, 10):\n",
    "    model = DecisionTreeClassifier(\n",
    "        min_samples_split=i,\n",
    "        max_depth=j\n",
    "    )\n",
    "    model.fit(X_train, y_train)\n",
    "\n",
    "\n",
    "    y_pred = model.predict(X_test)\n",
    "    accuracy = accuracy_score(y_test, y_pred)\n",
    "\n",
    "    if(accuracy > bestAccuracy):\n",
    "      params = (i, j)\n",
    "      bestAccuracy = accuracy\n",
    "\n",
    "print(params)"
   ]
  },
  {
   "cell_type": "markdown",
   "metadata": {},
   "source": [
    "#### 4-algorithm precision testing and training"
   ]
  },
  {
   "cell_type": "code",
   "execution_count": 220,
   "metadata": {},
   "outputs": [
    {
     "name": "stdout",
     "output_type": "stream",
     "text": [
      "DecisionTreeClassifier\n",
      "test pontuation: 85.25%\n",
      "train pontuation: 95.45%\n",
      "\n",
      "\n",
      "RandomForestClassifier\n",
      "test pontuation: 86.89%\n",
      "train pontuation: 100.00%\n",
      "\n",
      "\n",
      "KNeighborsClassifier\n",
      "test pontuation: 81.97%\n",
      "train pontuation: 88.43%\n",
      "\n",
      "\n",
      "SVC\n",
      "test pontuation: 85.25%\n",
      "train pontuation: 91.32%\n",
      "\n",
      "\n"
     ]
    }
   ],
   "source": [
    "for alg in models:\n",
    "  model = models[alg]\n",
    "  model.fit(X_train, y_train)\n",
    "\n",
    "  y_pred = model.predict(X_test)\n",
    "\n",
    "  print(alg)\n",
    "  print(f\"test pontuation: {(accuracy_score(y_test, y_pred)*100):.2f}%\")\n",
    "\n",
    "  y_pred = model.predict(X_train)\n",
    "  print(f\"train pontuation: {(accuracy_score(y_train, y_pred)*100):.2f}%\")\n",
    "  print('\\n')"
   ]
  },
  {
   "cell_type": "markdown",
   "metadata": {},
   "source": [
    "#### Predict"
   ]
  },
  {
   "cell_type": "code",
   "execution_count": 230,
   "metadata": {},
   "outputs": [
    {
     "name": "stdout",
     "output_type": "stream",
     "text": [
      "[[1.72612589e+04 7.54199420e+02 6.01424214e+02 3.63285992e+04\n",
      "  2.20371767e+05 1.33686434e+02 3.06800594e+02 4.59069363e+04\n",
      "  2.16985744e+02 8.16941857e+02 1.00564162e+03 2.22265854e+02\n",
      "  1.63332343e+03]]\n"
     ]
    },
    {
     "data": {
      "text/plain": [
       "'Chances baixas'"
      ]
     },
     "execution_count": 230,
     "metadata": {},
     "output_type": "execute_result"
    }
   ],
   "source": [
    "def predict(inputData):\n",
    "  inputData = np.array(inputData)\n",
    "  data = nm.transform([inputData])\n",
    "  \n",
    "  prediction = models[\"SVC\"].predict(data)\n",
    "\n",
    "  if(prediction == 0):\n",
    "    return \"Chances baixas\"\n",
    "  elif(prediction == 1):\n",
    "    return \"Chances altas!\"\n",
    "\n",
    "data = [ 34,1,3,118,182,0,0,174,0,0,2,0,2 ]\n",
    "\n",
    "data2 = [ 58,1,1,120,284,0,0,160,0,1.8,1,0,2 ]\n",
    "\n",
    "\n",
    "\n",
    "predict(data2)"
   ]
  },
  {
   "cell_type": "markdown",
   "metadata": {},
   "source": [
    "#### Data View"
   ]
  },
  {
   "cell_type": "code",
   "execution_count": 199,
   "metadata": {},
   "outputs": [
    {
     "data": {
      "text/plain": [
       "array([[20,  7],\n",
       "       [ 2, 32]], dtype=int64)"
      ]
     },
     "execution_count": 199,
     "metadata": {},
     "output_type": "execute_result"
    }
   ],
   "source": [
    "y_pred = models[\"SVC\"].predict(X_test)\n",
    "confusion_matrix(y_test, y_pred)"
   ]
  },
  {
   "cell_type": "code",
   "execution_count": 204,
   "metadata": {},
   "outputs": [
    {
     "data": {
      "image/png": "[encoded data removed]",
      "text/plain": [
       "<Figure size 640x480 with 1 Axes>"
      ]
     },
     "metadata": {},
     "output_type": "display_data"
    },
    {
     "data": {
      "image/png": "[encoded data removed]",
      "text/plain": [
       "<Figure size 640x480 with 1 Axes>"
      ]
     },
     "metadata": {},
     "output_type": "display_data"
    }
   ],
   "source": [
    "sns.scatterplot(x=range(len(y_test)), y=y_pred)\n",
    "sns.scatterplot(x=range(len(y_test)), y=y_test )\n",
    "plt.show()\n",
    "\n",
    "sns.histplot(x=range(len(y_test)), y=y_pred)\n",
    "plt.show()\n"
   ]
  },
  {
   "cell_type": "markdown",
   "metadata": {},
   "source": [
    "### Flask"
   ]
  },
  {
   "cell_type": "code",
   "execution_count": null,
   "metadata": {},
   "outputs": [],
   "source": [
    "from flask import Flask, request\n",
    "\n",
    "app = Flask(__name__)\n",
    "\n",
    "@app.route('/prediction', methods=['POST'])\n",
    "def predictionPost():\n",
    "  data = request.json\n",
    "  return predict(data.get('data'))\n",
    "\n",
    "app.run(port=8080)"
   ]
  }
 ],
 "metadata": {
  "kernelspec": {
   "display_name": "Python 3",
   "language": "python",
   "name": "python3"
  },
  "language_info": {
   "codemirror_mode": {
    "name": "ipython",
    "version": 3
   },
   "file_extension": ".py",
   "mimetype": "text/x-python",
   "name": "python",
   "nbconvert_exporter": "python",
   "pygments_lexer": "ipython3",
   "version": "3.12.0"
  }
 },
 "nbformat": 4,
 "nbformat_minor": 2
}
