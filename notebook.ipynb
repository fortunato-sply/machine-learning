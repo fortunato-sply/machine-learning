{
 "cells": [
  {
   "cell_type": "code",
   "execution_count": null,
   "metadata": {},
   "outputs": [],
   "source": [
    "!pip install pandas\n",
    "!pip install -U scikit-learn\n",
    "!pip install joblib"
   ]
  },
  {
   "cell_type": "markdown",
   "metadata": {},
   "source": [
    "### Reading dataset"
   ]
  },
  {
   "cell_type": "code",
   "execution_count": 270,
   "metadata": {},
   "outputs": [],
   "source": [
    "import pandas as pd\n",
    "from sklearn.model_selection import train_test_split as tsp\n",
    "from sklearn.tree import DecisionTreeClassifier\n",
    "from sklearn.ensemble import RandomForestClassifier\n",
    "from sklearn.neighbors import KNeighborsClassifier\n",
    "from sklearn.metrics import mean_absolute_error, r2_score, accuracy_score\n",
    "from sklearn.preprocessing import normalize, StandardScaler\n",
    "from sklearn.svm import SVC\n",
    "\n",
    "df = pd.read_csv('heart.csv')\n",
    "\n",
    "X = df.drop(['output'], axis=1)\n",
    "y = df['output']\n",
    "\n",
    "\n",
    "X_train, X_test, y_train, y_test = tsp(X, y, test_size=0.2, random_state=42)"
   ]
  },
  {
   "cell_type": "code",
   "execution_count": 271,
   "metadata": {},
   "outputs": [],
   "source": [
    "models = {\n",
    "  \"DecisionTreeClassifier\": DecisionTreeClassifier(max_depth=32, min_samples_split=11),\n",
    "  \"RandomForestClassifier\": RandomForestClassifier(max_depth=112, random_state=21),\n",
    "  \"KNeighborsClassifier\": KNeighborsClassifier(n_neighbors=3),\n",
    "  \"SVC\": SVC()\n",
    "}"
   ]
  },
  {
   "cell_type": "code",
   "execution_count": 263,
   "metadata": {},
   "outputs": [
    {
     "name": "stdout",
     "output_type": "stream",
     "text": [
      "(32, 11)\n"
     ]
    }
   ],
   "source": [
    "params = (0, 0)\n",
    "bestAccuracy = 0\n",
    "\n",
    "for j in range(1, 300, 10):\n",
    "  for i in range(2, 300, 10):\n",
    "    model = DecisionTreeClassifier(\n",
    "        min_samples_split=i,\n",
    "        max_depth=j\n",
    "    )\n",
    "    model.fit(X_train, y_train)\n",
    "\n",
    "\n",
    "    y_pred = model.predict(X_test)\n",
    "    accuracy = accuracy_score(y_test, y_pred)\n",
    "\n",
    "    if(accuracy > bestAccuracy):\n",
    "      params = (i, j)\n",
    "      bestAccuracy = accuracy\n",
    "\n",
    "print(params)"
   ]
  },
  {
   "cell_type": "code",
   "execution_count": 272,
   "metadata": {},
   "outputs": [
    {
     "name": "stdout",
     "output_type": "stream",
     "text": [
      "DecisionTreeClassifier\n",
      "0.8852459016393442\n",
      "0.9132231404958677\n",
      "\n",
      "\n",
      "RandomForestClassifier\n",
      "0.8524590163934426\n",
      "1.0\n",
      "\n",
      "\n",
      "KNeighborsClassifier\n",
      "0.6557377049180327\n",
      "0.7727272727272727\n",
      "\n",
      "\n",
      "SVC\n",
      "0.7049180327868853\n",
      "0.6570247933884298\n",
      "\n",
      "\n"
     ]
    }
   ],
   "source": [
    "for alg in models:\n",
    "  model = models[alg]\n",
    "  model.fit(X_train, y_train)\n",
    "\n",
    "  y_pred = model.predict(X_test)\n",
    "\n",
    "  print(alg)\n",
    "  print(accuracy_score(y_test, y_pred))\n",
    "\n",
    "  y_pred = model.predict(X_train)\n",
    "  print(accuracy_score(y_train, y_pred))\n",
    "  print('\\n')"
   ]
  }
 ],
 "metadata": {
  "kernelspec": {
   "display_name": "Python 3",
   "language": "python",
   "name": "python3"
  },
  "language_info": {
   "codemirror_mode": {
    "name": "ipython",
    "version": 3
   },
   "file_extension": ".py",
   "mimetype": "text/x-python",
   "name": "python",
   "nbconvert_exporter": "python",
   "pygments_lexer": "ipython3",
   "version": "3.12.0"
  }
 },
 "nbformat": 4,
 "nbformat_minor": 2
}
